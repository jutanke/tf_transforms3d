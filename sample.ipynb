{
 "cells": [
  {
   "cell_type": "markdown",
   "metadata": {},
   "source": [
    "# Sample in Keras\n",
    "\n",
    "This code is not doing nothing \"useful\". However, it showcases how to utilize tf_transforms3d with Keras"
   ]
  },
  {
   "cell_type": "code",
   "execution_count": 1,
   "metadata": {},
   "outputs": [
    {
     "name": "stdout",
     "output_type": "stream",
     "text": [
      "Model: \"sequential\"\n",
      "_________________________________________________________________\n",
      "Layer (type)                 Output Shape              Param #   \n",
      "=================================================================\n",
      "dense (Dense)                (None, 128)               16512     \n",
      "_________________________________________________________________\n",
      "dense_1 (Dense)              (None, 32)                4128      \n",
      "_________________________________________________________________\n",
      "dense_2 (Dense)              (None, 128)               4224      \n",
      "=================================================================\n",
      "Total params: 24,864\n",
      "Trainable params: 24,864\n",
      "Non-trainable params: 0\n",
      "_________________________________________________________________\n",
      "Train on 2048 samples\n",
      "Epoch 1/10\n",
      "2048/2048 [==============================] - 1s 413us/sample - loss: -0.0193\n",
      "Epoch 2/10\n",
      "2048/2048 [==============================] - 0s 184us/sample - loss: -0.1805\n",
      "Epoch 3/10\n",
      "2048/2048 [==============================] - 0s 188us/sample - loss: -0.2631\n",
      "Epoch 4/10\n",
      "2048/2048 [==============================] - 0s 183us/sample - loss: -0.3278\n",
      "Epoch 5/10\n",
      "2048/2048 [==============================] - 0s 198us/sample - loss: -0.2435\n",
      "Epoch 6/10\n",
      "2048/2048 [==============================] - 0s 194us/sample - loss: -0.2881\n",
      "Epoch 7/10\n",
      "2048/2048 [==============================] - 0s 183us/sample - loss: -0.3112\n",
      "Epoch 8/10\n",
      "2048/2048 [==============================] - 0s 184us/sample - loss: -0.3076\n",
      "Epoch 9/10\n",
      "2048/2048 [==============================] - 0s 187us/sample - loss: -0.2804\n",
      "Epoch 10/10\n",
      "2048/2048 [==============================] - 0s 186us/sample - loss: -0.2633\n"
     ]
    },
    {
     "data": {
      "text/plain": [
       "<tensorflow.python.keras.callbacks.History at 0x7f069c2eb828>"
      ]
     },
     "execution_count": 1,
     "metadata": {},
     "output_type": "execute_result"
    }
   ],
   "source": [
    "import numpy as np\n",
    "import numpy.random as rnd\n",
    "import math as m\n",
    "import tensorflow as tf\n",
    "keras = tf.keras # pylint: disable=no-member\n",
    "KL = keras.layers\n",
    "KM = keras.models\n",
    "K = keras.backend\n",
    "KR = keras.regularizers\n",
    "\n",
    "import sys\n",
    "sys.path.insert(0, './')\n",
    "import tf_transforms3d.euler as EULER\n",
    "\n",
    "batchsize = 2048\n",
    "dim = 3\n",
    "J = 32\n",
    "\n",
    "X_euler = (rnd.random(size=(batchsize * J, dim)) - 0.5) * 2 * m.pi\n",
    "\n",
    "X_quat = EULER.euler2quat(X_euler).numpy()\n",
    "X_quat = X_quat.reshape((batchsize, (dim+1) * J))\n",
    "\n",
    "X_quat.shape\n",
    "\n",
    "model = KM.Sequential() \n",
    "model.add(KL.Dense(128, input_shape=(128,), activation='relu'))\n",
    "model.add(KL.Dense(32, activation='relu'))\n",
    "model.add(KL.Dense(128))\n",
    "\n",
    "\n",
    "def loss(y_true, y_pred):\n",
    "    y_true = tf.reshape(y_true, (-1, 4))\n",
    "    y_pred = tf.reshape(y_pred, (-1, 4))\n",
    "    y_true_euler = EULER.quat2euler(y_true)\n",
    "    y_pred_euler = EULER.quat2euler(y_pred)\n",
    "    y_true_euler = tf.reshape(y_true_euler, (-1, 1))\n",
    "    y_pred_euler = tf.reshape(y_pred_euler, (-1, 1))\n",
    "    return tf.reduce_mean(y_true_euler - y_pred_euler)\n",
    "\n",
    "model.compile(loss=loss,\n",
    "              optimizer='adam')\n",
    "\n",
    "model.summary()\n",
    "\n",
    "model.fit(X_quat, X_quat, epochs=10)"
   ]
  }
 ],
 "metadata": {
  "kernelspec": {
   "display_name": "Python 3",
   "language": "python",
   "name": "python3"
  },
  "language_info": {
   "codemirror_mode": {
    "name": "ipython",
    "version": 3
   },
   "file_extension": ".py",
   "mimetype": "text/x-python",
   "name": "python",
   "nbconvert_exporter": "python",
   "pygments_lexer": "ipython3",
   "version": "3.7.3"
  }
 },
 "nbformat": 4,
 "nbformat_minor": 2
}
